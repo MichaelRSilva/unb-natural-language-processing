{
  "nbformat": 4,
  "nbformat_minor": 0,
  "metadata": {
    "colab": {
      "provenance": [],
      "machine_shape": "hm",
      "gpuType": "A100"
    },
    "kernelspec": {
      "name": "python3",
      "display_name": "Python 3"
    },
    "language_info": {
      "name": "python"
    },
    "accelerator": "GPU"
  },
  "cells": [
    {
      "cell_type": "markdown",
      "source": [
        "Import the libraries"
      ],
      "metadata": {
        "id": "jlo_X_mRXoTK"
      }
    },
    {
      "cell_type": "code",
      "execution_count": null,
      "metadata": {
        "colab": {
          "base_uri": "https://localhost:8080/"
        },
        "id": "cXgnYS8OXG50",
        "outputId": "affef730-e4d5-4331-9a5f-75c908e0bbab"
      },
      "outputs": [
        {
          "output_type": "execute_result",
          "data": {
            "text/plain": [
              "<module 'logistic_regression' from '/content/logistic_regression.py'>"
            ]
          },
          "metadata": {},
          "execution_count": 1
        }
      ],
      "source": [
        "import pandas as pd\n",
        "import util\n",
        "import multinomial_naive_bayes\n",
        "import svm\n",
        "import logistic_regression\n",
        "\n",
        "import importlib\n",
        "importlib.reload(util)\n",
        "importlib.reload(multinomial_naive_bayes)\n",
        "importlib.reload(svm)\n",
        "importlib.reload(logistic_regression)"
      ]
    },
    {
      "cell_type": "markdown",
      "source": [
        "Load the base Dmoz-Health.csv"
      ],
      "metadata": {
        "id": "I84rzsWBXthX"
      }
    },
    {
      "cell_type": "code",
      "source": [
        "# webkb-parsed.csv | Dmoz-Health.csv\n",
        "basename = \"Dmoz-Health.csv\"\n",
        "text, label = util.read_csv(basename, 1, 2)\n",
        "text = text[1:]\n",
        "label = label[1:]\n",
        "num_classes = len(list(set(label)))\n",
        "\n",
        "data = pd.DataFrame({\n",
        "    'text': text,\n",
        "    'label': label\n",
        "})\n"
      ],
      "metadata": {
        "id": "Yxmz8ahVXf_w"
      },
      "execution_count": null,
      "outputs": []
    },
    {
      "cell_type": "markdown",
      "source": [
        "Run the multinomial_naive_bayes"
      ],
      "metadata": {
        "id": "s7SEv-mAXxM5"
      }
    },
    {
      "cell_type": "code",
      "source": [
        "multinomial_naive_bayes.multinomial_naive_bayes(data, num_classes, basename)"
      ],
      "metadata": {
        "colab": {
          "base_uri": "https://localhost:8080/"
        },
        "id": "iPCZTzlwXjLH",
        "outputId": "2037cb81-4726-474e-f245-8ceecac17ca2"
      },
      "execution_count": null,
      "outputs": [
        {
          "output_type": "stream",
          "name": "stdout",
          "text": [
            "Running \n",
            "Best Parameters multinomial_naive_bayes and Dmoz-Health.csv: {'classifier__alpha': 0.5, 'classifier__fit_prior': True, 'vectorizer__max_df': 0.9, 'vectorizer__min_df': 1, 'vectorizer__ngram_range': (1, 1)}\n",
            "F1 Score: 0.8187\n",
            "Accuracy: 0.8185\n"
          ]
        }
      ]
    },
    {
      "cell_type": "markdown",
      "source": [
        "Run the SVM"
      ],
      "metadata": {
        "id": "K4oRsEqfX0SM"
      }
    },
    {
      "cell_type": "code",
      "source": [
        "svm.svm(data, num_classes, basename)"
      ],
      "metadata": {
        "id": "FagVGpF8XmU7",
        "colab": {
          "base_uri": "https://localhost:8080/"
        },
        "outputId": "44f88710-e77e-45e7-fab5-bf86b6f6fdf6"
      },
      "execution_count": null,
      "outputs": [
        {
          "output_type": "stream",
          "name": "stdout",
          "text": [
            "Best Parameters svm and Dmoz-Health.csv: {'classifier__C': 10, 'classifier__gamma': 'scale', 'classifier__kernel': 'linear', 'vectorizer__max_df': 0.8, 'vectorizer__min_df': 1, 'vectorizer__ngram_range': (1, 2)}\n",
            "F1 Score: 0.8483\n",
            "Accuracy: 0.8477\n"
          ]
        }
      ]
    },
    {
      "cell_type": "markdown",
      "source": [
        "Run the logistic regression"
      ],
      "metadata": {
        "id": "NzSU4jmAX-Pe"
      }
    },
    {
      "cell_type": "code",
      "source": [
        "logistic_regression.logistic_regression(data, num_classes, basename)"
      ],
      "metadata": {
        "id": "_a8a_C-uXmki"
      },
      "execution_count": null,
      "outputs": []
    },
    {
      "cell_type": "markdown",
      "source": [
        "Load the base webkb-parsed.csv"
      ],
      "metadata": {
        "id": "5MCtquorYGiz"
      }
    },
    {
      "cell_type": "code",
      "source": [
        "# webkb-parsed.csv | Dmoz-Health.csv\n",
        "basename = \"webkb-parsed.csv\"\n",
        "text, label = util.read_csv(basename, 1, 2)\n",
        "text = text[1:]\n",
        "label = label[1:]\n",
        "num_classes = len(list(set(label)))\n",
        "\n",
        "data = pd.DataFrame({\n",
        "    'text': text,\n",
        "    'label': label\n",
        "})\n"
      ],
      "metadata": {
        "id": "8sdGTB8xYQsH"
      },
      "execution_count": null,
      "outputs": []
    },
    {
      "cell_type": "markdown",
      "source": [
        "Run the multinomial naive bayes"
      ],
      "metadata": {
        "id": "G3DkuhqtYbpt"
      }
    },
    {
      "cell_type": "code",
      "source": [
        "multinomial_naive_bayes.multinomial_naive_bayes(data, num_classes, basename)"
      ],
      "metadata": {
        "id": "s8s16Y7-YcoC",
        "colab": {
          "base_uri": "https://localhost:8080/"
        },
        "outputId": "44d76788-1214-477e-a123-77c4bd55e1ce"
      },
      "execution_count": 8,
      "outputs": [
        {
          "output_type": "stream",
          "name": "stdout",
          "text": [
            "Running \n",
            "Best Parameters multinomial_naive_bayes and webkb-parsed.csv: {'classifier__alpha': 0.1, 'classifier__fit_prior': False, 'vectorizer__max_df': 0.8, 'vectorizer__min_df': 3, 'vectorizer__ngram_range': (1, 1)}\n",
            "F1 Score: 0.5816\n",
            "Accuracy: 0.6838\n"
          ]
        }
      ]
    },
    {
      "cell_type": "markdown",
      "source": [
        "Run the SVM"
      ],
      "metadata": {
        "id": "EOi9U_KAYdKB"
      }
    },
    {
      "cell_type": "code",
      "source": [
        "svm.svm(data, num_classes, basename)"
      ],
      "metadata": {
        "id": "FQdl8ClqYd91"
      },
      "execution_count": null,
      "outputs": []
    },
    {
      "cell_type": "markdown",
      "source": [
        "Run the logistic regression"
      ],
      "metadata": {
        "id": "e32IlYr2Yedg"
      }
    },
    {
      "cell_type": "code",
      "source": [
        "logistic_regression.logistic_regression(data, num_classes, basename)"
      ],
      "metadata": {
        "id": "FYDdQ8ZoYfJE"
      },
      "execution_count": null,
      "outputs": []
    }
  ]
}