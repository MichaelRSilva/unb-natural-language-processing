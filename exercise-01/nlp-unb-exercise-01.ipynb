{
 "cells": [
  {
   "cell_type": "markdown",
   "metadata": {
    "id": "IODlhwPRHu_U"
   },
   "source": [
    "Import the libraries"
   ]
  },
  {
   "cell_type": "code",
   "execution_count": 1,
   "metadata": {
    "ExecuteTime": {
     "end_time": "2024-10-29T02:54:26.946394Z",
     "start_time": "2024-10-29T02:54:26.943884Z"
    },
    "executionInfo": {
     "elapsed": 256,
     "status": "ok",
     "timestamp": 1729987048116,
     "user": {
      "displayName": "Michael Silva",
      "userId": "03749993695353977562"
     },
     "user_tz": 180
    },
    "id": "m7Rnn8AHykYG"
   },
   "outputs": [],
   "source": [
    "import os, json\n",
    "from bpe_tokenizer import BpeTokenizer"
   ]
  },
  {
   "cell_type": "markdown",
   "metadata": {},
   "source": [
    "Global parameters"
   ]
  },
  {
   "cell_type": "code",
   "execution_count": 2,
   "metadata": {
    "ExecuteTime": {
     "end_time": "2024-10-29T02:54:28.925813Z",
     "start_time": "2024-10-29T02:54:28.923434Z"
    }
   },
   "outputs": [],
   "source": [
    "DATA_PATH = './data/'"
   ]
  },
  {
   "cell_type": "markdown",
   "metadata": {
    "id": "MeIKubRrBSjb"
   },
   "source": [
    "Create the instance of the Tokenizer"
   ]
  },
  {
   "cell_type": "code",
   "execution_count": 3,
   "metadata": {
    "ExecuteTime": {
     "end_time": "2024-10-29T02:54:31.250352Z",
     "start_time": "2024-10-29T02:54:31.247621Z"
    },
    "executionInfo": {
     "elapsed": 288,
     "status": "ok",
     "timestamp": 1729987049468,
     "user": {
      "displayName": "Michael Silva",
      "userId": "03749993695353977562"
     },
     "user_tz": 180
    },
    "id": "W_ceyTfq0MsB"
   },
   "outputs": [],
   "source": [
    "tokenizer = BpeTokenizer()"
   ]
  },
  {
   "cell_type": "markdown",
   "metadata": {
    "id": "q0XZhf07BjZL"
   },
   "source": [
    "Load the text to train the tokenizer"
   ]
  },
  {
   "cell_type": "code",
   "execution_count": 25,
   "metadata": {
    "ExecuteTime": {
     "end_time": "2024-10-29T02:54:56.896347Z",
     "start_time": "2024-10-29T02:54:56.894031Z"
    },
    "executionInfo": {
     "elapsed": 297,
     "status": "ok",
     "timestamp": 1729987050724,
     "user": {
      "displayName": "Michael Silva",
      "userId": "03749993695353977562"
     },
     "user_tz": 180
    },
    "id": "MhLcOqmfBJCn"
   },
   "outputs": [
    {
     "name": "stdout",
     "output_type": "stream",
     "text": [
      "71033260\n"
     ]
    }
   ],
   "source": [
    "train_text_list = []\n",
    "for file_name in [file for file in os.listdir(DATA_PATH) if file.endswith('.json')]:\n",
    "    with open(DATA_PATH + file_name) as json_file:\n",
    "        data = json.load(json_file)\n",
    "        train_text_list.append(data[\"text\"])        \n",
    "train_text = '\\n'.join(train_text_list)\n",
    "print(len(train_text))"
   ]
  },
  {
   "cell_type": "markdown",
   "metadata": {
    "id": "k70mWyouDSd5"
   },
   "source": [
    "Train the tokenizer"
   ]
  },
  {
   "cell_type": "code",
   "execution_count": 26,
   "metadata": {
    "ExecuteTime": {
     "end_time": "2024-10-27T00:19:12.844876Z",
     "start_time": "2024-10-27T00:19:08.828085Z"
    },
    "executionInfo": {
     "elapsed": 17057,
     "status": "ok",
     "timestamp": 1729987069068,
     "user": {
      "displayName": "Michael Silva",
      "userId": "03749993695353977562"
     },
     "user_tz": 180
    },
    "id": "gVXKmL38DR6p"
   },
   "outputs": [
    {
     "name": "stdout",
     "output_type": "stream",
     "text": [
      "{0: b'\\x00', 1: b'\\x01', 2: b'\\x02', 3: b'\\x03', 4: b'\\x04', 5: b'\\x05', 6: b'\\x06', 7: b'\\x07', 8: b'\\x08', 9: b'\\t', 10: b'\\n', 11: b'\\x0b', 12: b'\\x0c', 13: b'\\r', 14: b'\\x0e', 15: b'\\x0f', 16: b'\\x10', 17: b'\\x11', 18: b'\\x12', 19: b'\\x13', 20: b'\\x14', 21: b'\\x15', 22: b'\\x16', 23: b'\\x17', 24: b'\\x18', 25: b'\\x19', 26: b'\\x1a', 27: b'\\x1b', 28: b'\\x1c', 29: b'\\x1d', 30: b'\\x1e', 31: b'\\x1f', 32: b' ', 33: b'!', 34: b'\"', 35: b'#', 36: b'$', 37: b'%', 38: b'&', 39: b\"'\", 40: b'(', 41: b')', 42: b'*', 43: b'+', 44: b',', 45: b'-', 46: b'.', 47: b'/', 48: b'0', 49: b'1', 50: b'2', 51: b'3', 52: b'4', 53: b'5', 54: b'6', 55: b'7', 56: b'8', 57: b'9', 58: b':', 59: b';', 60: b'<', 61: b'=', 62: b'>', 63: b'?', 64: b'@', 65: b'A', 66: b'B', 67: b'C', 68: b'D', 69: b'E', 70: b'F', 71: b'G', 72: b'H', 73: b'I', 74: b'J', 75: b'K', 76: b'L', 77: b'M', 78: b'N', 79: b'O', 80: b'P', 81: b'Q', 82: b'R', 83: b'S', 84: b'T', 85: b'U', 86: b'V', 87: b'W', 88: b'X', 89: b'Y', 90: b'Z', 91: b'[', 92: b'\\\\', 93: b']', 94: b'^', 95: b'_', 96: b'`', 97: b'a', 98: b'b', 99: b'c', 100: b'd', 101: b'e', 102: b'f', 103: b'g', 104: b'h', 105: b'i', 106: b'j', 107: b'k', 108: b'l', 109: b'm', 110: b'n', 111: b'o', 112: b'p', 113: b'q', 114: b'r', 115: b's', 116: b't', 117: b'u', 118: b'v', 119: b'w', 120: b'x', 121: b'y', 122: b'z', 123: b'{', 124: b'|', 125: b'}', 126: b'~', 127: b'\\x7f', 128: b'\\x80', 129: b'\\x81', 130: b'\\x82', 131: b'\\x83', 132: b'\\x84', 133: b'\\x85', 134: b'\\x86', 135: b'\\x87', 136: b'\\x88', 137: b'\\x89', 138: b'\\x8a', 139: b'\\x8b', 140: b'\\x8c', 141: b'\\x8d', 142: b'\\x8e', 143: b'\\x8f', 144: b'\\x90', 145: b'\\x91', 146: b'\\x92', 147: b'\\x93', 148: b'\\x94', 149: b'\\x95', 150: b'\\x96', 151: b'\\x97', 152: b'\\x98', 153: b'\\x99', 154: b'\\x9a', 155: b'\\x9b', 156: b'\\x9c', 157: b'\\x9d', 158: b'\\x9e', 159: b'\\x9f', 160: b'\\xa0', 161: b'\\xa1', 162: b'\\xa2', 163: b'\\xa3', 164: b'\\xa4', 165: b'\\xa5', 166: b'\\xa6', 167: b'\\xa7', 168: b'\\xa8', 169: b'\\xa9', 170: b'\\xaa', 171: b'\\xab', 172: b'\\xac', 173: b'\\xad', 174: b'\\xae', 175: b'\\xaf', 176: b'\\xb0', 177: b'\\xb1', 178: b'\\xb2', 179: b'\\xb3', 180: b'\\xb4', 181: b'\\xb5', 182: b'\\xb6', 183: b'\\xb7', 184: b'\\xb8', 185: b'\\xb9', 186: b'\\xba', 187: b'\\xbb', 188: b'\\xbc', 189: b'\\xbd', 190: b'\\xbe', 191: b'\\xbf', 192: b'\\xc0', 193: b'\\xc1', 194: b'\\xc2', 195: b'\\xc3', 196: b'\\xc4', 197: b'\\xc5', 198: b'\\xc6', 199: b'\\xc7', 200: b'\\xc8', 201: b'\\xc9', 202: b'\\xca', 203: b'\\xcb', 204: b'\\xcc', 205: b'\\xcd', 206: b'\\xce', 207: b'\\xcf', 208: b'\\xd0', 209: b'\\xd1', 210: b'\\xd2', 211: b'\\xd3', 212: b'\\xd4', 213: b'\\xd5', 214: b'\\xd6', 215: b'\\xd7', 216: b'\\xd8', 217: b'\\xd9', 218: b'\\xda', 219: b'\\xdb', 220: b'\\xdc', 221: b'\\xdd', 222: b'\\xde', 223: b'\\xdf', 224: b'\\xe0', 225: b'\\xe1', 226: b'\\xe2', 227: b'\\xe3', 228: b'\\xe4', 229: b'\\xe5', 230: b'\\xe6', 231: b'\\xe7', 232: b'\\xe8', 233: b'\\xe9', 234: b'\\xea', 235: b'\\xeb', 236: b'\\xec', 237: b'\\xed', 238: b'\\xee', 239: b'\\xef', 240: b'\\xf0', 241: b'\\xf1', 242: b'\\xf2', 243: b'\\xf3', 244: b'\\xf4', 245: b'\\xf5', 246: b'\\xf6', 247: b'\\xf7', 248: b'\\xf8', 249: b'\\xf9', 250: b'\\xfa', 251: b'\\xfb', 252: b'\\xfc', 253: b'\\xfd', 254: b'\\xfe', 255: b'\\xff', 256: b'o ', 257: b'a ', 258: b'e ', 259: b's ', 260: b', ', 261: b'de ', 262: b'en', 263: b'm ', 264: b'or', 265: b'er', 266: b'an', 267: b'ar', 268: b'es', 269: b'co', 270: b'. ', 271: b'do ', 272: b'os ', 273: b'in', 274: b'al', 275: b'as ', 276: b'\\xc3\\xa3', 277: b'ad', 278: b'ent', 279: b'\\xc3\\xa3o ', 280: b'\\xc3\\xa7', 281: b'ri', 282: b'ci', 283: b're', 284: b'qu', 285: b'st', 286: b'at', 287: b'\\xc3\\xa9', 288: b'on', 289: b'el', 290: b'es ', 291: b'da ', 292: b'ic', 293: b'em ', 294: b'as', 295: b'it', 296: b'am', 297: b'\\xc3\\xad', 298: b'ro', 299: b'\\xc3\\xa1', 300: b'u ', 301: b'| ', 302: b'==', 303: b'di', 304: b'ai', 305: b'ei', 306: b'a\\xc3\\xa7', 307: b'id', 308: b'que ', 309: b'os', 310: b'em', 311: b'il', 312: b'un', 313: b'est', 314: b'ul', 315: b'con', 316: b'19', 317: b'par', 318: b'or ', 319: b'um', 320: b'a, ', 321: b'ol', 322: b'al ', 323: b'o de ', 324: b'ant', 325: b'o, ', 326: b'ur', 327: b'* ', 328: b'|| ', 329: b'\\xc3\\xb3', 330: b'com', 331: b'a de ', 332: b'im', 333: b'et', 334: b'20', 335: b'ut', 336: b'ist', 337: b'eg', 338: b'ado ', 339: b'a\\xc3\\xa7\\xc3\\xa3o ', 340: b'po', 341: b'se ', 342: b'um ', 343: b'ar ', 344: b'ra', 345: b'iv', 346: b'\\xc3\\xa9 ', 347: b'om', 348: b'ia ', 349: b'com ', 350: b'ou ', 351: b'is', 352: b'am ', 353: b'eir', 354: b'i ', 355: b'uma ', 356: b'er ', 357: b'ais ', 358: b'ente ', 359: b'su', 360: b'no ', 361: b'= ', 362: b'ap', 363: b' || ', 364: b'de', 365: b'\\xc3\\xaa', 366: b'para ', 367: b'ig', 368: b'res', 369: b'ex', 370: b'ort', 371: b'\\xc3\\xb5', 372: b'na ', 373: b') ', 374: b'se', 375: b'== ', 376: b'ac', 377: b'pro', 378: b'dos ', 379: b'av', 380: b'\\xe2\\x80', 381: b'ag', 382: b'br', 383: b'. A', 384: b'oc', 385: b'ter', 386: b'per', 387: b'ada ', 388: b'ov', 389: b'por ', 390: b'ab', 391: b' de ', 392: b'e, ', 393: b'ec', 394: b'\\xc3\\xb5es ', 395: b'ade ', 396: b': ', 397: b'ran', 398: b'\\xc3\\xba', 399: b'0 ', 400: b'fo', 401: b'for', 402: b'ir', 403: b'iz', 404: b'como ', 405: b'. E', 406: b'\\xc3\\xa7\\xc3\\xa3o ', 407: b'gu', 408: b'us', 409: b'pel', 410: b'O ', 411: b'des', 412: b'1 ', 413: b'so', 414: b'col', 415: b'foi ', 416: b'ch', 417: b'nci', 418: b'og', 419: b'\\xc3\\xa1ri', 420: b'200', 421: b'ev', 422: b'ados ', 423: b'ed', 424: b'ando ', 425: b'das ', 426: b'cont', 427: b'pl', 428: b'ia', 429: b'- ', 430: b'ica ', 431: b'cl', 432: b'ass', 433: b'o. ', 434: b'io ', 435: b'ro ', 436: b'pr', 437: b'ot', 438: b'=== ', 439: b'and', 440: b'amb', 441: b'pri', 442: b'a. ', 443: b'ao ', 444: b'mais ', 445: b'ico', 446: b'2 ', 447: b'3 ', 448: b'cion', 449: b'\\xc3\\xa9m ', 450: b'4 ', 451: b's\\xc3\\xa3o ', 452: b'199', 453: b'a e ', 454: b'\\xc3\\xa2', 455: b'as, ', 456: b'reg', 457: b'\\xe2\\x80\\x94', 458: b'inh', 459: b'. A ', 460: b'os, ', 461: b'ento ', 462: b'\\xc3\\xa0', 463: b's, ', 464: b'5 ', 465: b'201', 466: b'idade ', 467: b'a do ', 468: b'part', 469: b'ess', 470: b'ru', 471: b'\\xc3\\xaanci', 472: b're ', 473: b'ont', 474: b'y ', 475: b'port', 476: b'\\xc3\\xa1 ', 477: b'A ', 478: b'a m', 479: b'18', 480: b'; ', 481: b'as de ', 482: b'vi', 483: b'ici', 484: b'es, ', 485: b'-se ', 486: b'du', 487: b'to ', 488: b'pres', 489: b'), ', 490: b'os de ', 491: b'z ', 492: b'Cat', 493: b'form', 494: b'pe', 495: b'out', 496: b'bl', 497: b'\\xc3\\xb3ri', 498: b'is ', 499: b'cul', 500: b'cid', 501: b'ra ', 502: b'int', 503: b'n\\xc3\\xa3o ', 504: b'ico ', 505: b'ores ', 506: b'6 ', 507: b'a\\xc3\\xa7\\xc3\\xb5es ', 508: b'ver', 509: b'cri', 510: b'\\xc3\\xa0 ', 511: b'7 '}\n"
     ]
    }
   ],
   "source": [
    "byte_tokens = 256\n",
    "num_merges = 256\n",
    "tokenizer.train(train_text, byte_tokens+num_merges)\n",
    "print(tokenizer.vocab)"
   ]
  },
  {
   "cell_type": "markdown",
   "metadata": {
    "id": "gu8oKM3UDRuN"
   },
   "source": [
    "Load the text to be executed in the tokenizer (encode and decode)"
   ]
  },
  {
   "cell_type": "code",
   "execution_count": 35,
   "metadata": {
    "ExecuteTime": {
     "end_time": "2024-10-27T00:19:12.853329Z",
     "start_time": "2024-10-27T00:19:12.850853Z"
    },
    "executionInfo": {
     "elapsed": 273,
     "status": "ok",
     "timestamp": 1729987072020,
     "user": {
      "displayName": "Michael Silva",
      "userId": "03749993695353977562"
     },
     "user_tz": 180
    },
    "id": "ueZANVSHBoT3"
   },
   "outputs": [],
   "source": [
    "with open('./data/272.json', 'r') as file:\n",
    "    execute_text = json.load(file)[\"text\"]"
   ]
  },
  {
   "cell_type": "markdown",
   "metadata": {
    "id": "xFibO5XYCD26"
   },
   "source": [
    "Encode the file"
   ]
  },
  {
   "cell_type": "code",
   "execution_count": 36,
   "metadata": {
    "ExecuteTime": {
     "end_time": "2024-10-27T00:19:12.861645Z",
     "start_time": "2024-10-27T00:19:12.859638Z"
    },
    "colab": {
     "base_uri": "https://localhost:8080/"
    },
    "executionInfo": {
     "elapsed": 247,
     "status": "ok",
     "timestamp": 1729987073989,
     "user": {
      "displayName": "Michael Silva",
      "userId": "03749993695353977562"
     },
     "user_tz": 180
    },
    "id": "1-ww1JpjDwSZ",
    "outputId": "d73f527f-a682-4b07-ab72-e494eb82f777"
   },
   "outputs": [
    {
     "name": "stdout",
     "output_type": "stream",
     "text": [
      "[65, 108, 102, 283, 100, 32, 74, 314, 290, 65, 121, 356, 40, 76, 288, 100, 368, 260, 50, 57, 391, 495, 117, 382, 323, 316, 49, 399, 380, 147, 32, 76, 288, 100, 368, 260, 50, 55, 391, 106, 312, 104, 323, 316, 56, 57, 373, 415, 342, 423, 117, 99, 277, 318, 258, 102, 311, 329, 413, 102, 256, 98, 281, 116, 454, 110, 445, 260, 377, 112, 288, 358, 271, 112, 309, 295, 345, 351, 109, 256, 108, 329, 103, 445, 270, 70, 311, 104, 323, 112, 304, 32, 359, 297, 280, 256, 258, 109, 276, 258, 98, 289, 103, 320, 65, 121, 356, 313, 117, 100, 350, 360, 82, 101, 273, 256, 85, 110, 307, 325, 293, 69, 116, 288, 32, 258, 79, 120, 401, 100, 270, 70, 111, 354, 377, 102, 469, 318, 372, 85, 110, 345, 265, 115, 466, 261, 76, 288, 100, 283, 259, 278, 472, 316, 52, 506, 258, 316, 53, 57, 260, 288, 261, 116, 421, 258, 257, 99, 299, 116, 423, 114, 331, 70, 311, 309, 111, 102, 348, 291, 77, 358, 258, 76, 329, 103, 292, 442, 302, 86, 105, 291, 258, 111, 98, 344, 375, 68, 101, 340, 498, 261, 341, 493, 343, 293, 79, 120, 401, 100, 260, 293, 316, 51, 50, 260, 313, 117, 100, 350, 293, 86, 105, 262, 257, 100, 326, 324, 258, 342, 266, 325, 324, 290, 261, 456, 368, 115, 343, 257, 79, 120, 401, 100, 32, 258, 303, 118, 314, 103, 343, 293, 73, 110, 103, 108, 286, 265, 501, 257, 111, 382, 453, 257, 102, 311, 309, 111, 102, 348, 271, 67, 297, 114, 499, 323, 86, 105, 262, 442, 410, 374, 300, 116, 344, 98, 274, 104, 256, 436, 273, 282, 112, 322, 415, 34, 76, 266, 407, 381, 392, 84, 114, 335, 104, 32, 439, 32, 76, 418, 292, 34, 260, 423, 295, 338, 293, 316, 51, 54, 260, 315, 285, 295, 117, 105, 300, 257, 362, 368, 278, 339, 271, 112, 309, 295, 345, 351, 109, 256, 257, 342, 112, 398, 496, 504, 444, 118, 97, 285, 323, 108, 297, 110, 407, 257, 273, 103, 108, 268, 442, 83, 337, 117, 105, 117, 45, 374, 45, 108, 104, 258, 34, 84, 104, 258, 70, 312, 100, 286, 105, 288, 259, 111, 102, 32, 69, 109, 112, 105, 281, 99, 322, 75, 110, 111, 119, 108, 423, 103, 101, 34, 260, 293, 316, 52, 48, 405, 263, 316, 53, 506, 112, 117, 496, 445, 300, 34, 84, 104, 258, 80, 298, 496, 293, 111, 102, 32, 75, 110, 111, 119, 108, 423, 103, 101, 34, 260, 355, 502, 298, 486, 406, 510, 101, 112, 336, 310, 321, 418, 348, 308, 369, 265, 99, 101, 300, 355, 103, 397, 261, 273, 102, 108, 117, 471, 442, 78, 272, 398, 108, 116, 332, 272, 266, 460, 65, 121, 356, 118, 321, 116, 111, 117, 485, 99, 387, 118, 101, 491, 444, 366, 257, 104, 336, 497, 257, 291, 102, 311, 309, 111, 102, 105, 320, 268, 99, 283, 118, 262, 271, 108, 345, 114, 272, 413, 382, 258, 77, 111, 264, 258, 258, 82, 408, 115, 289, 260, 256, 112, 344, 103, 109, 286, 351, 109, 325, 72, 319, 258, 258, 86, 321, 116, 304, 283, 46, 83, 332, 288, 32, 66, 108, 376, 107, 98, 326, 110, 270, 68, 105, 448, 419, 323, 70, 311, 309, 111, 102, 428, 270, 71, 114, 277, 345, 320, 452, 511, 65, 121, 356, 116, 421, 258, 116, 440, 449, 342, 112, 362, 289, 32, 377, 310, 273, 358, 372, 118, 351, 257, 112, 321, 297, 116, 430, 291, 71, 114, 276, 429, 66, 283, 116, 266, 104, 320, 268, 99, 283, 118, 262, 271, 366, 256, 112, 398, 496, 504, 293, 103, 265, 274, 260, 258, 97, 382, 306, 350, 355, 284, 324, 466, 261, 99, 97, 408, 275, 108, 105, 98, 265, 304, 115, 270, 302, 79, 382, 275, 116, 114, 277, 117, 122, 307, 275, 293, 475, 117, 407, 365, 115, 375, 327, 65, 121, 265, 260, 65, 270, 74, 270, 429, 76, 273, 407, 381, 310, 260, 86, 265, 100, 395, 258, 76, 329, 103, 292, 442, 76, 351, 98, 111, 97, 405, 100, 295, 264, 105, 274, 270, 80, 368, 262, 280, 97, 46, 452, 412, 327, 65, 121, 265, 260, 65, 270, 74, 270, 429, 410, 80, 298, 496, 310, 467, 67, 288, 104, 101, 282, 109, 278, 433, 76, 351, 98, 111, 97, 405, 100, 295, 264, 257, 85, 108, 351, 115, 305, 442, 115, 47, 100, 270, 327, 65, 121, 265, 260, 65, 270, 74, 270, 429, 65, 259, 81, 117, 313, 394, 67, 278, 114, 357, 291, 70, 311, 309, 111, 102, 428, 270, 82, 105, 323, 74, 266, 305, 298, 46, 90, 97, 104, 267, 46, 316, 55, 464, 327, 65, 121, 265, 260, 65, 270, 74, 270, 429, 72, 319, 101, 270, 76, 351, 98, 111, 442, 80, 117, 98, 270, 68, 270, 81, 117, 105, 120, 437, 101, 270, 327, 65, 121, 265, 260, 65, 270, 74, 270, 429, 65, 259, 73, 100, 305, 481, 66, 265, 116, 397, 100, 32, 82, 408, 115, 289, 270, 83, 279, 80, 97, 314, 433, 67, 314, 116, 281, 120, 270, 316, 56, 450, 302, 86, 356, 116, 440, 287, 109, 375, 42, 69, 114, 110, 313, 32, 71, 289, 108, 110, 356, 42, 80, 309, 295, 345, 351, 109, 256, 302, 76, 367, 507, 369, 385, 110, 294, 375, 71, 344, 104, 352, 77, 376, 100, 288, 274, 100, 260, 465, 48, 383, 108, 102, 283, 100, 32, 74, 314, 290, 65, 121, 265, 270, 83, 116, 266, 401, 100, 100, 32, 69, 110, 99, 121, 431, 111, 494, 303, 257, 111, 102, 32, 80, 104, 311, 309, 111, 112, 104, 474, 492, 337, 264, 428, 58, 69, 486, 99, 277, 505, 271, 82, 101, 273, 256, 85, 110, 105, 271, 492, 337, 264, 428, 58, 70, 311, 329, 413, 102, 272, 266, 274, 297, 116, 445, 259, 492, 337, 264, 428, 58, 70, 311, 329, 413, 102, 272, 271, 82, 101, 273, 256, 85, 110, 105, 271, 65, 121, 265]\n"
     ]
    }
   ],
   "source": [
    "encoded = tokenizer.encode(execute_text)\n",
    "print(encoded)"
   ]
  },
  {
   "cell_type": "markdown",
   "metadata": {
    "id": "nuqMUllXCCiI"
   },
   "source": [
    "Decode the encoded data"
   ]
  },
  {
   "cell_type": "code",
   "execution_count": 37,
   "metadata": {
    "ExecuteTime": {
     "end_time": "2024-10-27T00:19:12.868668Z",
     "start_time": "2024-10-27T00:19:12.866980Z"
    },
    "colab": {
     "base_uri": "https://localhost:8080/",
     "height": 269
    },
    "executionInfo": {
     "elapsed": 285,
     "status": "error",
     "timestamp": 1729986895154,
     "user": {
      "displayName": "Michael Silva",
      "userId": "03749993695353977562"
     },
     "user_tz": 180
    },
    "id": "2Kjr3N7nD2IV",
    "outputId": "a11ea867-8d9f-4d50-b859-c46b94658b51"
   },
   "outputs": [
    {
     "name": "stdout",
     "output_type": "stream",
     "text": [
      "Alfred Jules Ayer (Londres, 29 de outubro de 1910 – Londres, 27 de junho de 1989) foi um educador e filósofo britânico, proponente do positivismo lógico. Filho de pai suíço e mãe belga, Ayer estudou no Reino Unido, em Eton e Oxford. Foi professor na Universidade de Londres entre 1946 e 1959, onde teve a cátedra de Filosofia da Mente e Lógica. ==Vida e obra== Depois de se formar em Oxford, em 1932, estudou em Viena durante um ano, antes de regressar a Oxford e divulgar em Inglaterra a obra e a filosofia do Círculo de Viena. O seu trabalho principal foi \"Language, Truth and Logic\", editado em 1936, constituiu a apresentação do positivismo a um público mais vasto de língua inglesa. Seguiu-se-lhe \"The Fundations of Empirical Knowledge\", em 1940. Em 1956 publicou \"The Problem of Knowledge\", uma introdução à epistemologia que exerceu uma grande influência. Nos últimos anos, Ayer voltou-se cada vez mais para a história da filosofia, escrevendo livros sobre Moore e Russel, o pragmatismo, Hume e Voltaire.Simon Blackburn. Dicionário de Filosofia. Gradiva, 1997 Ayer teve também um papel proeminente na visa política da Grã- Bretanha, escrevendo para o público em geral, e abraçou uma quantidade de causas liberais. ==Obras traduzidas em português== * Ayer, A. J. - Linguagem, Verdade e Lógica. Lisboa. Editorial. Presença.1991 * Ayer, A. J. - O Problema do Conhecimento. Lisboa. Editora Ulisseia. s/d. * Ayer, A. J. - As Questões Centrais da Filosofia. Rio de Janeiro.Zahar.1975 * Ayer, A. J. - Hume. Lisboa. Pub. D. Quixote. * Ayer, A. J. - As Ideias de Bertrand Russel. São Paulo. Cultrix. 1984 ==Ver também== *Ernest Gellner *Positivismo ==Ligações externas== Graham Macdonald, 2010. Alfred Jules Ayer. Stanfordd Encyclopedia of Philosophy Categoria:Educadores do Reino Unido Categoria:Filósofos analíticos Categoria:Filósofos do Reino Unido Ayer\n"
     ]
    }
   ],
   "source": [
    "decoded = tokenizer.decode(encoded)\n",
    "print(decoded)"
   ]
  },
  {
   "cell_type": "code",
   "execution_count": null,
   "metadata": {},
   "outputs": [],
   "source": []
  }
 ],
 "metadata": {
  "colab": {
   "provenance": []
  },
  "kernelspec": {
   "display_name": "Python 3 (ipykernel)",
   "language": "python",
   "name": "python3"
  },
  "language_info": {
   "codemirror_mode": {
    "name": "ipython",
    "version": 3
   },
   "file_extension": ".py",
   "mimetype": "text/x-python",
   "name": "python",
   "nbconvert_exporter": "python",
   "pygments_lexer": "ipython3",
   "version": "3.11.9"
  }
 },
 "nbformat": 4,
 "nbformat_minor": 4
}
