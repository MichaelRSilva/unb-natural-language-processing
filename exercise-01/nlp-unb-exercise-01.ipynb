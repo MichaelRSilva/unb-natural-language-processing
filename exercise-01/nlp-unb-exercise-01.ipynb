{
 "cells": [
  {
   "cell_type": "markdown",
   "metadata": {
    "id": "IODlhwPRHu_U"
   },
   "source": [
    "Import the libraries"
   ]
  },
  {
   "cell_type": "code",
   "execution_count": 1,
   "metadata": {
    "ExecuteTime": {
     "end_time": "2024-10-29T02:54:26.946394Z",
     "start_time": "2024-10-29T02:54:26.943884Z"
    },
    "executionInfo": {
     "elapsed": 256,
     "status": "ok",
     "timestamp": 1729987048116,
     "user": {
      "displayName": "Michael Silva",
      "userId": "03749993695353977562"
     },
     "user_tz": 180
    },
    "id": "m7Rnn8AHykYG"
   },
   "outputs": [],
   "source": [
    "import os, json\n",
    "from bpe_tokenizer import BpeTokenizer"
   ]
  },
  {
   "cell_type": "markdown",
   "metadata": {},
   "source": [
    "Global parameters"
   ]
  },
  {
   "cell_type": "code",
   "execution_count": 2,
   "metadata": {
    "ExecuteTime": {
     "end_time": "2024-10-29T02:54:28.925813Z",
     "start_time": "2024-10-29T02:54:28.923434Z"
    }
   },
   "outputs": [],
   "source": [
    "DATA_PATH = './data/'"
   ]
  },
  {
   "cell_type": "markdown",
   "metadata": {
    "id": "MeIKubRrBSjb"
   },
   "source": [
    "Create the instance of the Tokenizer"
   ]
  },
  {
   "cell_type": "code",
   "execution_count": 3,
   "metadata": {
    "ExecuteTime": {
     "end_time": "2024-10-29T02:54:31.250352Z",
     "start_time": "2024-10-29T02:54:31.247621Z"
    },
    "executionInfo": {
     "elapsed": 288,
     "status": "ok",
     "timestamp": 1729987049468,
     "user": {
      "displayName": "Michael Silva",
      "userId": "03749993695353977562"
     },
     "user_tz": 180
    },
    "id": "W_ceyTfq0MsB"
   },
   "outputs": [],
   "source": [
    "tokenizer = BpeTokenizer()"
   ]
  },
  {
   "cell_type": "markdown",
   "metadata": {
    "id": "q0XZhf07BjZL"
   },
   "source": [
    "Load the text to train the tokenizer"
   ]
  },
  {
   "cell_type": "code",
   "execution_count": 4,
   "metadata": {
    "ExecuteTime": {
     "end_time": "2024-10-29T02:54:56.896347Z",
     "start_time": "2024-10-29T02:54:56.894031Z"
    },
    "executionInfo": {
     "elapsed": 297,
     "status": "ok",
     "timestamp": 1729987050724,
     "user": {
      "displayName": "Michael Silva",
      "userId": "03749993695353977562"
     },
     "user_tz": 180
    },
    "id": "MhLcOqmfBJCn"
   },
   "outputs": [
    {
     "name": "stdout",
     "output_type": "stream",
     "text": [
      "71033260\n"
     ]
    }
   ],
   "source": [
    "train_text_list = []\n",
    "for file_name in [file for file in os.listdir(DATA_PATH) if file.endswith('.json')]:\n",
    "    with open(DATA_PATH + file_name) as json_file:\n",
    "        data = json.load(json_file)\n",
    "        train_text_list.append(data[\"text\"])        \n",
    "train_text = '\\n'.join(train_text_list)\n",
    "print(len(train_text))"
   ]
  },
  {
   "cell_type": "markdown",
   "metadata": {
    "id": "k70mWyouDSd5"
   },
   "source": [
    "Train the tokenizer"
   ]
  },
  {
   "cell_type": "code",
   "execution_count": 5,
   "metadata": {
    "ExecuteTime": {
     "end_time": "2024-10-27T00:19:12.844876Z",
     "start_time": "2024-10-27T00:19:08.828085Z"
    },
    "executionInfo": {
     "elapsed": 17057,
     "status": "ok",
     "timestamp": 1729987069068,
     "user": {
      "displayName": "Michael Silva",
      "userId": "03749993695353977562"
     },
     "user_tz": 180
    },
    "id": "gVXKmL38DR6p"
   },
   "outputs": [
    {
     "name": "stdout",
     "output_type": "stream",
     "text": [
      "{0: b'\\x00', 1: b'\\x01', 2: b'\\x02', 3: b'\\x03', 4: b'\\x04', 5: b'\\x05', 6: b'\\x06', 7: b'\\x07', 8: b'\\x08', 9: b'\\t', 10: b'\\n', 11: b'\\x0b', 12: b'\\x0c', 13: b'\\r', 14: b'\\x0e', 15: b'\\x0f', 16: b'\\x10', 17: b'\\x11', 18: b'\\x12', 19: b'\\x13', 20: b'\\x14', 21: b'\\x15', 22: b'\\x16', 23: b'\\x17', 24: b'\\x18', 25: b'\\x19', 26: b'\\x1a', 27: b'\\x1b', 28: b'\\x1c', 29: b'\\x1d', 30: b'\\x1e', 31: b'\\x1f', 32: b' ', 33: b'!', 34: b'\"', 35: b'#', 36: b'$', 37: b'%', 38: b'&', 39: b\"'\", 40: b'(', 41: b')', 42: b'*', 43: b'+', 44: b',', 45: b'-', 46: b'.', 47: b'/', 48: b'0', 49: b'1', 50: b'2', 51: b'3', 52: b'4', 53: b'5', 54: b'6', 55: b'7', 56: b'8', 57: b'9', 58: b':', 59: b';', 60: b'<', 61: b'=', 62: b'>', 63: b'?', 64: b'@', 65: b'A', 66: b'B', 67: b'C', 68: b'D', 69: b'E', 70: b'F', 71: b'G', 72: b'H', 73: b'I', 74: b'J', 75: b'K', 76: b'L', 77: b'M', 78: b'N', 79: b'O', 80: b'P', 81: b'Q', 82: b'R', 83: b'S', 84: b'T', 85: b'U', 86: b'V', 87: b'W', 88: b'X', 89: b'Y', 90: b'Z', 91: b'[', 92: b'\\\\', 93: b']', 94: b'^', 95: b'_', 96: b'`', 97: b'a', 98: b'b', 99: b'c', 100: b'd', 101: b'e', 102: b'f', 103: b'g', 104: b'h', 105: b'i', 106: b'j', 107: b'k', 108: b'l', 109: b'm', 110: b'n', 111: b'o', 112: b'p', 113: b'q', 114: b'r', 115: b's', 116: b't', 117: b'u', 118: b'v', 119: b'w', 120: b'x', 121: b'y', 122: b'z', 123: b'{', 124: b'|', 125: b'}', 126: b'~', 127: b'\\x7f', 128: b'\\x80', 129: b'\\x81', 130: b'\\x82', 131: b'\\x83', 132: b'\\x84', 133: b'\\x85', 134: b'\\x86', 135: b'\\x87', 136: b'\\x88', 137: b'\\x89', 138: b'\\x8a', 139: b'\\x8b', 140: b'\\x8c', 141: b'\\x8d', 142: b'\\x8e', 143: b'\\x8f', 144: b'\\x90', 145: b'\\x91', 146: b'\\x92', 147: b'\\x93', 148: b'\\x94', 149: b'\\x95', 150: b'\\x96', 151: b'\\x97', 152: b'\\x98', 153: b'\\x99', 154: b'\\x9a', 155: b'\\x9b', 156: b'\\x9c', 157: b'\\x9d', 158: b'\\x9e', 159: b'\\x9f', 160: b'\\xa0', 161: b'\\xa1', 162: b'\\xa2', 163: b'\\xa3', 164: b'\\xa4', 165: b'\\xa5', 166: b'\\xa6', 167: b'\\xa7', 168: b'\\xa8', 169: b'\\xa9', 170: b'\\xaa', 171: b'\\xab', 172: b'\\xac', 173: b'\\xad', 174: b'\\xae', 175: b'\\xaf', 176: b'\\xb0', 177: b'\\xb1', 178: b'\\xb2', 179: b'\\xb3', 180: b'\\xb4', 181: b'\\xb5', 182: b'\\xb6', 183: b'\\xb7', 184: b'\\xb8', 185: b'\\xb9', 186: b'\\xba', 187: b'\\xbb', 188: b'\\xbc', 189: b'\\xbd', 190: b'\\xbe', 191: b'\\xbf', 192: b'\\xc0', 193: b'\\xc1', 194: b'\\xc2', 195: b'\\xc3', 196: b'\\xc4', 197: b'\\xc5', 198: b'\\xc6', 199: b'\\xc7', 200: b'\\xc8', 201: b'\\xc9', 202: b'\\xca', 203: b'\\xcb', 204: b'\\xcc', 205: b'\\xcd', 206: b'\\xce', 207: b'\\xcf', 208: b'\\xd0', 209: b'\\xd1', 210: b'\\xd2', 211: b'\\xd3', 212: b'\\xd4', 213: b'\\xd5', 214: b'\\xd6', 215: b'\\xd7', 216: b'\\xd8', 217: b'\\xd9', 218: b'\\xda', 219: b'\\xdb', 220: b'\\xdc', 221: b'\\xdd', 222: b'\\xde', 223: b'\\xdf', 224: b'\\xe0', 225: b'\\xe1', 226: b'\\xe2', 227: b'\\xe3', 228: b'\\xe4', 229: b'\\xe5', 230: b'\\xe6', 231: b'\\xe7', 232: b'\\xe8', 233: b'\\xe9', 234: b'\\xea', 235: b'\\xeb', 236: b'\\xec', 237: b'\\xed', 238: b'\\xee', 239: b'\\xef', 240: b'\\xf0', 241: b'\\xf1', 242: b'\\xf2', 243: b'\\xf3', 244: b'\\xf4', 245: b'\\xf5', 246: b'\\xf6', 247: b'\\xf7', 248: b'\\xf8', 249: b'\\xf9', 250: b'\\xfa', 251: b'\\xfb', 252: b'\\xfc', 253: b'\\xfd', 254: b'\\xfe', 255: b'\\xff', 256: b'o ', 257: b'a ', 258: b'e ', 259: b's ', 260: b', ', 261: b'de ', 262: b'en', 263: b'm ', 264: b'or', 265: b'er', 266: b'an', 267: b'ar', 268: b'es', 269: b'co', 270: b'. ', 271: b'do ', 272: b'os ', 273: b'in', 274: b'al', 275: b'as ', 276: b'\\xc3\\xa3', 277: b'ad', 278: b'ent', 279: b'\\xc3\\xa3o ', 280: b'\\xc3\\xa7', 281: b'ri', 282: b'ci', 283: b're', 284: b'qu', 285: b'st', 286: b'at', 287: b'\\xc3\\xa9', 288: b'on', 289: b'el', 290: b'es ', 291: b'da ', 292: b'ic', 293: b'em ', 294: b'as', 295: b'it', 296: b'am', 297: b'\\xc3\\xad', 298: b'ro', 299: b'\\xc3\\xa1', 300: b'u ', 301: b'| ', 302: b'==', 303: b'di', 304: b'ai', 305: b'ei', 306: b'a\\xc3\\xa7', 307: b'id', 308: b'que ', 309: b'os', 310: b'em', 311: b'il', 312: b'un', 313: b'est', 314: b'ul', 315: b'con', 316: b'19', 317: b'par', 318: b'or ', 319: b'um'}\n"
     ]
    }
   ],
   "source": [
    "byte_tokens = 256\n",
    "num_merges = 1000\n",
    "tokenizer.train(train_text, byte_tokens+num_merges)\n",
    "print(tokenizer.vocab)"
   ]
  },
  {
   "cell_type": "markdown",
   "metadata": {
    "id": "gu8oKM3UDRuN"
   },
   "source": [
    "Load the text to be executed in the tokenizer (encode and decode)"
   ]
  },
  {
   "cell_type": "code",
   "execution_count": 6,
   "metadata": {
    "ExecuteTime": {
     "end_time": "2024-10-27T00:19:12.853329Z",
     "start_time": "2024-10-27T00:19:12.850853Z"
    },
    "executionInfo": {
     "elapsed": 273,
     "status": "ok",
     "timestamp": 1729987072020,
     "user": {
      "displayName": "Michael Silva",
      "userId": "03749993695353977562"
     },
     "user_tz": 180
    },
    "id": "ueZANVSHBoT3"
   },
   "outputs": [],
   "source": [
    "with open('./data/272.json', 'r') as file:\n",
    "    execute_text = json.load(file)[\"text\"]"
   ]
  },
  {
   "cell_type": "markdown",
   "metadata": {
    "id": "xFibO5XYCD26"
   },
   "source": [
    "Encode the file"
   ]
  },
  {
   "cell_type": "code",
   "execution_count": 8,
   "metadata": {
    "ExecuteTime": {
     "end_time": "2024-10-27T00:19:12.861645Z",
     "start_time": "2024-10-27T00:19:12.859638Z"
    },
    "colab": {
     "base_uri": "https://localhost:8080/"
    },
    "executionInfo": {
     "elapsed": 247,
     "status": "ok",
     "timestamp": 1729987073989,
     "user": {
      "displayName": "Michael Silva",
      "userId": "03749993695353977562"
     },
     "user_tz": 180
    },
    "id": "1-ww1JpjDwSZ",
    "outputId": "d73f527f-a682-4b07-ab72-e494eb82f777"
   },
   "outputs": [
    {
     "name": "stdout",
     "output_type": "stream",
     "text": [
      "[65, 108, 102, 283, 100, 32, 74, 314, 290, 65, 121, 265, 32, 40, 76, 288, 100, 114, 268, 260, 50, 57, 32, 261, 111, 117, 116, 117, 98, 114, 256, 261, 316, 49, 48, 32, 226, 128, 147, 32, 76, 288, 100, 114, 268, 260, 50, 55, 32, 261, 106, 312, 104, 256, 261, 316, 56, 57, 41, 32, 102, 111, 105, 32, 117, 263, 101, 100, 117, 99, 277, 318, 258, 102, 311, 195, 179, 115, 111, 102, 256, 98, 281, 116, 195, 162, 110, 105, 269, 260, 112, 298, 112, 288, 278, 258, 271, 112, 309, 295, 105, 118, 105, 115, 109, 256, 108, 195, 179, 103, 105, 269, 270, 70, 311, 104, 256, 261, 112, 304, 32, 115, 117, 297, 280, 256, 258, 109, 276, 258, 98, 289, 103, 97, 260, 65, 121, 265, 32, 313, 117, 100, 111, 300, 110, 256, 82, 101, 273, 256, 85, 110, 307, 111, 260, 293, 69, 116, 288, 32, 258, 79, 120, 102, 264, 100, 270, 70, 111, 105, 32, 112, 298, 102, 268, 115, 318, 110, 257, 85, 110, 105, 118, 265, 115, 307, 97, 261, 261, 76, 288, 100, 283, 259, 278, 114, 258, 316, 52, 54, 32, 258, 316, 53, 57, 260, 288, 261, 116, 101, 118, 258, 257, 99, 299, 116, 101, 100, 114, 257, 261, 70, 311, 309, 111, 102, 105, 257, 291, 77, 278, 258, 258, 76, 195, 179, 103, 292, 97, 270, 302, 86, 105, 291, 258, 111, 98, 114, 97, 302, 32, 68, 101, 112, 111, 105, 259, 261, 115, 258, 102, 264, 109, 267, 32, 293, 79, 120, 102, 264, 100, 260, 293, 316, 51, 50, 260, 313, 117, 100, 111, 300, 293, 86, 105, 262, 257, 100, 117, 114, 266, 116, 258, 117, 263, 266, 111, 260, 266, 116, 290, 261, 283, 103, 114, 268, 115, 267, 32, 257, 79, 120, 102, 264, 100, 32, 258, 303, 118, 314, 103, 267, 32, 293, 73, 110, 103, 108, 286, 265, 114, 257, 257, 111, 98, 114, 257, 258, 257, 102, 311, 309, 111, 102, 105, 257, 271, 67, 297, 114, 99, 314, 256, 261, 86, 105, 262, 97, 270, 79, 32, 115, 101, 300, 116, 114, 97, 98, 274, 104, 256, 112, 114, 273, 282, 112, 274, 32, 102, 111, 105, 32, 34, 76, 266, 103, 117, 97, 103, 101, 260, 84, 114, 117, 116, 104, 32, 266, 100, 32, 76, 111, 103, 292, 34, 260, 101, 100, 295, 97, 271, 293, 316, 51, 54, 260, 315, 285, 295, 117, 105, 300, 257, 97, 112, 114, 268, 278, 306, 279, 271, 112, 309, 295, 105, 118, 105, 115, 109, 256, 257, 117, 263, 112, 195, 186, 98, 108, 292, 256, 109, 304, 259, 118, 97, 285, 256, 261, 108, 297, 110, 103, 117, 257, 273, 103, 108, 268, 97, 270, 83, 101, 103, 117, 105, 117, 45, 115, 101, 45, 108, 104, 258, 34, 84, 104, 258, 70, 312, 100, 286, 105, 288, 259, 111, 102, 32, 69, 109, 112, 105, 281, 99, 274, 32, 75, 110, 111, 119, 108, 101, 100, 103, 101, 34, 260, 293, 316, 52, 48, 270, 69, 263, 316, 53, 54, 32, 112, 117, 98, 108, 105, 269, 300, 34, 84, 104, 258, 80, 298, 98, 108, 293, 111, 102, 32, 75, 110, 111, 119, 108, 101, 100, 103, 101, 34, 260, 319, 257, 273, 116, 298, 100, 117, 280, 279, 195, 160, 32, 101, 112, 105, 285, 310, 111, 108, 111, 103, 105, 257, 308, 101, 120, 265, 99, 101, 300, 319, 257, 103, 114, 266, 261, 273, 102, 108, 117, 195, 170, 110, 282, 97, 270, 78, 272, 195, 186, 108, 116, 105, 109, 272, 266, 309, 260, 65, 121, 265, 32, 118, 111, 108, 116, 111, 117, 45, 115, 258, 99, 277, 257, 118, 101, 122, 32, 109, 304, 259, 317, 257, 257, 104, 105, 285, 195, 179, 281, 257, 291, 102, 311, 309, 111, 102, 105, 97, 260, 268, 99, 283, 118, 262, 271, 108, 105, 118, 114, 272, 115, 111, 98, 114, 258, 77, 111, 264, 258, 258, 82, 117, 115, 115, 289, 260, 256, 112, 114, 97, 103, 109, 286, 105, 115, 109, 111, 260, 72, 319, 258, 258, 86, 111, 108, 116, 304, 283, 46, 83, 105, 109, 288, 32, 66, 108, 97, 99, 107, 98, 117, 114, 110, 270, 68, 105, 282, 288, 299, 281, 256, 261, 70, 311, 309, 111, 102, 105, 97, 270, 71, 114, 277, 105, 118, 97, 260, 316, 57, 55, 32, 65, 121, 265, 32, 116, 101, 118, 258, 116, 296, 98, 287, 263, 117, 263, 112, 97, 112, 289, 32, 112, 298, 310, 273, 278, 258, 110, 257, 118, 105, 115, 257, 112, 111, 108, 297, 116, 292, 257, 291, 71, 114, 276, 45, 32, 66, 283, 116, 266, 104, 97, 260, 268, 99, 283, 118, 262, 271, 317, 257, 256, 112, 195, 186, 98, 108, 292, 256, 293, 103, 265, 274, 260, 258, 97, 98, 114, 306, 111, 300, 319, 257, 284, 266, 116, 307, 97, 261, 261, 99, 97, 117, 115, 275, 108, 105, 98, 265, 304, 115, 270, 302, 79, 98, 114, 275, 116, 114, 277, 117, 122, 307, 275, 293, 112, 264, 116, 117, 103, 117, 195, 170, 115, 302, 32, 42, 32, 65, 121, 265, 260, 65, 270, 74, 270, 45, 32, 76, 273, 103, 117, 97, 103, 310, 260, 86, 265, 100, 97, 261, 258, 76, 195, 179, 103, 292, 97, 270, 76, 105, 115, 98, 111, 97, 270, 69, 100, 295, 264, 105, 274, 270, 80, 114, 268, 262, 280, 97, 46, 316, 57, 49, 32, 42, 32, 65, 121, 265, 260, 65, 270, 74, 270, 45, 32, 79, 32, 80, 298, 98, 108, 310, 257, 271, 67, 288, 104, 101, 282, 109, 278, 111, 270, 76, 105, 115, 98, 111, 97, 270, 69, 100, 295, 264, 257, 85, 108, 105, 115, 115, 305, 97, 270, 115, 47, 100, 270, 42, 32, 65, 121, 265, 260, 65, 270, 74, 270, 45, 32, 65, 259, 81, 117, 313, 195, 181, 290, 67, 278, 114, 304, 259, 291, 70, 311, 309, 111, 102, 105, 97, 270, 82, 105, 256, 261, 74, 266, 305, 298, 46, 90, 97, 104, 267, 46, 316, 55, 53, 32, 42, 32, 65, 121, 265, 260, 65, 270, 74, 270, 45, 32, 72, 319, 101, 270, 76, 105, 115, 98, 111, 97, 270, 80, 117, 98, 270, 68, 270, 81, 117, 105, 120, 111, 116, 101, 270, 42, 32, 65, 121, 265, 260, 65, 270, 74, 270, 45, 32, 65, 259, 73, 100, 305, 275, 261, 66, 265, 116, 114, 266, 100, 32, 82, 117, 115, 115, 289, 270, 83, 279, 80, 97, 314, 111, 270, 67, 314, 116, 281, 120, 270, 316, 56, 52, 32, 302, 86, 265, 32, 116, 296, 98, 287, 109, 302, 32, 42, 69, 114, 110, 313, 32, 71, 289, 108, 110, 265, 32, 42, 80, 309, 295, 105, 118, 105, 115, 109, 256, 302, 76, 105, 103, 306, 195, 181, 290, 101, 120, 116, 265, 110, 294, 302, 32, 71, 114, 97, 104, 97, 263, 77, 97, 99, 100, 288, 274, 100, 260, 50, 48, 49, 48, 270, 65, 108, 102, 283, 100, 32, 74, 314, 290, 65, 121, 265, 270, 83, 116, 266, 102, 264, 100, 100, 32, 69, 110, 99, 121, 99, 108, 111, 112, 101, 303, 257, 111, 102, 32, 80, 104, 311, 309, 111, 112, 104, 121, 32, 67, 286, 101, 103, 264, 105, 97, 58, 69, 100, 117, 99, 277, 264, 290, 271, 82, 101, 273, 256, 85, 110, 105, 271, 67, 286, 101, 103, 264, 105, 97, 58, 70, 311, 195, 179, 115, 111, 102, 272, 266, 274, 297, 116, 105, 269, 259, 67, 286, 101, 103, 264, 105, 97, 58, 70, 311, 195, 179, 115, 111, 102, 272, 271, 82, 101, 273, 256, 85, 110, 105, 271, 65, 121, 265]\n"
     ]
    }
   ],
   "source": [
    "encoded = tokenizer.encode(execute_text)\n",
    "print(encoded)"
   ]
  },
  {
   "cell_type": "markdown",
   "metadata": {
    "id": "nuqMUllXCCiI"
   },
   "source": [
    "Decode the encoded data"
   ]
  },
  {
   "cell_type": "code",
   "execution_count": 9,
   "metadata": {
    "ExecuteTime": {
     "end_time": "2024-10-27T00:19:12.868668Z",
     "start_time": "2024-10-27T00:19:12.866980Z"
    },
    "colab": {
     "base_uri": "https://localhost:8080/",
     "height": 269
    },
    "executionInfo": {
     "elapsed": 285,
     "status": "error",
     "timestamp": 1729986895154,
     "user": {
      "displayName": "Michael Silva",
      "userId": "03749993695353977562"
     },
     "user_tz": 180
    },
    "id": "2Kjr3N7nD2IV",
    "outputId": "a11ea867-8d9f-4d50-b859-c46b94658b51"
   },
   "outputs": [
    {
     "name": "stdout",
     "output_type": "stream",
     "text": [
      "Alfred Jules Ayer (Londres, 29 de outubro de 1910 – Londres, 27 de junho de 1989) foi um educador e filósofo britânico, proponente do positivismo lógico. Filho de pai suíço e mãe belga, Ayer estudou no Reino Unido, em Eton e Oxford. Foi professor na Universidade de Londres entre 1946 e 1959, onde teve a cátedra de Filosofia da Mente e Lógica. ==Vida e obra== Depois de se formar em Oxford, em 1932, estudou em Viena durante um ano, antes de regressar a Oxford e divulgar em Inglaterra a obra e a filosofia do Círculo de Viena. O seu trabalho principal foi \"Language, Truth and Logic\", editado em 1936, constituiu a apresentação do positivismo a um público mais vasto de língua inglesa. Seguiu-se-lhe \"The Fundations of Empirical Knowledge\", em 1940. Em 1956 publicou \"The Problem of Knowledge\", uma introdução à epistemologia que exerceu uma grande influência. Nos últimos anos, Ayer voltou-se cada vez mais para a história da filosofia, escrevendo livros sobre Moore e Russel, o pragmatismo, Hume e Voltaire.Simon Blackburn. Dicionário de Filosofia. Gradiva, 1997 Ayer teve também um papel proeminente na visa política da Grã- Bretanha, escrevendo para o público em geral, e abraçou uma quantidade de causas liberais. ==Obras traduzidas em português== * Ayer, A. J. - Linguagem, Verdade e Lógica. Lisboa. Editorial. Presença.1991 * Ayer, A. J. - O Problema do Conhecimento. Lisboa. Editora Ulisseia. s/d. * Ayer, A. J. - As Questões Centrais da Filosofia. Rio de Janeiro.Zahar.1975 * Ayer, A. J. - Hume. Lisboa. Pub. D. Quixote. * Ayer, A. J. - As Ideias de Bertrand Russel. São Paulo. Cultrix. 1984 ==Ver também== *Ernest Gellner *Positivismo ==Ligações externas== Graham Macdonald, 2010. Alfred Jules Ayer. Stanfordd Encyclopedia of Philosophy Categoria:Educadores do Reino Unido Categoria:Filósofos analíticos Categoria:Filósofos do Reino Unido Ayer\n"
     ]
    }
   ],
   "source": [
    "decoded = tokenizer.decode(encoded)\n",
    "print(decoded)"
   ]
  },
  {
   "cell_type": "code",
   "execution_count": null,
   "metadata": {},
   "outputs": [],
   "source": []
  },
  {
   "cell_type": "code",
   "execution_count": null,
   "metadata": {},
   "outputs": [],
   "source": []
  }
 ],
 "metadata": {
  "colab": {
   "provenance": []
  },
  "kernelspec": {
   "display_name": "Python 3 (ipykernel)",
   "language": "python",
   "name": "python3"
  },
  "language_info": {
   "codemirror_mode": {
    "name": "ipython",
    "version": 3
   },
   "file_extension": ".py",
   "mimetype": "text/x-python",
   "name": "python",
   "nbconvert_exporter": "python",
   "pygments_lexer": "ipython3",
   "version": "3.11.9"
  }
 },
 "nbformat": 4,
 "nbformat_minor": 4
}
