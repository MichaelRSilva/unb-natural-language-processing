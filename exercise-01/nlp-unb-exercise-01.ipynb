{
 "nbformat": 4,
 "nbformat_minor": 0,
 "metadata": {
  "colab": {
   "provenance": []
  },
  "kernelspec": {
   "name": "python3",
   "display_name": "Python 3 (ipykernel)",
   "language": "python"
  },
  "language_info": {
   "name": "python"
  }
 },
 "cells": [
  {
   "cell_type": "markdown",
   "source": "Import the tokenizer",
   "metadata": {
    "id": "IODlhwPRHu_U"
   }
  },
  {
   "cell_type": "code",
   "metadata": {
    "id": "m7Rnn8AHykYG",
    "executionInfo": {
     "status": "ok",
     "timestamp": 1729987048116,
     "user_tz": 180,
     "elapsed": 256,
     "user": {
      "displayName": "Michael Silva",
      "userId": "03749993695353977562"
     }
    },
    "ExecuteTime": {
     "end_time": "2024-10-27T00:19:08.679722Z",
     "start_time": "2024-10-27T00:19:08.672274Z"
    }
   },
   "source": "from bpe_tokenizer import BpeTokenizer",
   "outputs": [],
   "execution_count": 1
  },
  {
   "cell_type": "markdown",
   "source": "Create the instance of the Tokenizer",
   "metadata": {
    "id": "MeIKubRrBSjb"
   }
  },
  {
   "cell_type": "code",
   "source": [
    "tokenizer = BpeTokenizer()"
   ],
   "metadata": {
    "id": "W_ceyTfq0MsB",
    "executionInfo": {
     "status": "ok",
     "timestamp": 1729987049468,
     "user_tz": 180,
     "elapsed": 288,
     "user": {
      "displayName": "Michael Silva",
      "userId": "03749993695353977562"
     }
    },
    "ExecuteTime": {
     "end_time": "2024-10-27T00:19:08.691646Z",
     "start_time": "2024-10-27T00:19:08.689560Z"
    }
   },
   "outputs": [],
   "execution_count": 2
  },
  {
   "cell_type": "markdown",
   "source": [
    "Load the text to train the tokenizer"
   ],
   "metadata": {
    "id": "q0XZhf07BjZL"
   }
  },
  {
   "cell_type": "code",
   "source": "train_text = open(\"./data/train.txt\", \"r\", encoding=\"utf-8\").read()",
   "metadata": {
    "id": "MhLcOqmfBJCn",
    "executionInfo": {
     "status": "ok",
     "timestamp": 1729987050724,
     "user_tz": 180,
     "elapsed": 297,
     "user": {
      "displayName": "Michael Silva",
      "userId": "03749993695353977562"
     }
    },
    "ExecuteTime": {
     "end_time": "2024-10-27T00:19:08.813355Z",
     "start_time": "2024-10-27T00:19:08.811184Z"
    }
   },
   "outputs": [],
   "execution_count": 3
  },
  {
   "cell_type": "markdown",
   "source": [
    "Train the tokenizer"
   ],
   "metadata": {
    "id": "k70mWyouDSd5"
   }
  },
  {
   "cell_type": "code",
   "source": [
    "byte_tokens = 256\n",
    "num_merges = 256\n",
    "tokenizer.train(train_text, byte_tokens+num_merges)"
   ],
   "metadata": {
    "id": "gVXKmL38DR6p",
    "executionInfo": {
     "status": "ok",
     "timestamp": 1729987069068,
     "user_tz": 180,
     "elapsed": 17057,
     "user": {
      "displayName": "Michael Silva",
      "userId": "03749993695353977562"
     }
    },
    "ExecuteTime": {
     "end_time": "2024-10-27T00:19:12.844876Z",
     "start_time": "2024-10-27T00:19:08.828085Z"
    }
   },
   "outputs": [],
   "execution_count": 4
  },
  {
   "cell_type": "markdown",
   "source": [
    "Load the text to be executed in the tokenizer (encode and decode)"
   ],
   "metadata": {
    "id": "gu8oKM3UDRuN"
   }
  },
  {
   "cell_type": "code",
   "source": "execute_text = open(\"./data/execute.txt\", \"r\", encoding=\"utf-8\").read()",
   "metadata": {
    "id": "ueZANVSHBoT3",
    "executionInfo": {
     "status": "ok",
     "timestamp": 1729987072020,
     "user_tz": 180,
     "elapsed": 273,
     "user": {
      "displayName": "Michael Silva",
      "userId": "03749993695353977562"
     }
    },
    "ExecuteTime": {
     "end_time": "2024-10-27T00:19:12.853329Z",
     "start_time": "2024-10-27T00:19:12.850853Z"
    }
   },
   "outputs": [],
   "execution_count": 5
  },
  {
   "cell_type": "markdown",
   "source": [
    "Encode the file"
   ],
   "metadata": {
    "id": "xFibO5XYCD26"
   }
  },
  {
   "cell_type": "code",
   "source": [
    "encoded = tokenizer.encode(execute_text)\n",
    "print(encoded)"
   ],
   "metadata": {
    "id": "1-ww1JpjDwSZ",
    "colab": {
     "base_uri": "https://localhost:8080/"
    },
    "executionInfo": {
     "status": "ok",
     "timestamp": 1729987073989,
     "user_tz": 180,
     "elapsed": 247,
     "user": {
      "displayName": "Michael Silva",
      "userId": "03749993695353977562"
     }
    },
    "outputId": "d73f527f-a682-4b07-ab72-e494eb82f777",
    "ExecuteTime": {
     "end_time": "2024-10-27T00:19:12.861645Z",
     "start_time": "2024-10-27T00:19:12.859638Z"
    }
   },
   "outputs": [
    {
     "name": "stdout",
     "output_type": "stream",
     "text": [
      "[97, 97, 97, 98, 100, 97, 97, 97, 98, 392]\n"
     ]
    }
   ],
   "execution_count": 6
  },
  {
   "cell_type": "markdown",
   "source": [
    "Decode the encoded data"
   ],
   "metadata": {
    "id": "nuqMUllXCCiI"
   }
  },
  {
   "cell_type": "code",
   "source": [
    "decoded = tokenizer.decode(encoded)\n",
    "print(decoded)"
   ],
   "metadata": {
    "id": "2Kjr3N7nD2IV",
    "executionInfo": {
     "status": "error",
     "timestamp": 1729986895154,
     "user_tz": 180,
     "elapsed": 285,
     "user": {
      "displayName": "Michael Silva",
      "userId": "03749993695353977562"
     }
    },
    "colab": {
     "base_uri": "https://localhost:8080/",
     "height": 269
    },
    "outputId": "a11ea867-8d9f-4d50-b859-c46b94658b51",
    "ExecuteTime": {
     "end_time": "2024-10-27T00:19:12.868668Z",
     "start_time": "2024-10-27T00:19:12.866980Z"
    }
   },
   "outputs": [
    {
     "name": "stdout",
     "output_type": "stream",
     "text": [
      "aaabdaaabac\n"
     ]
    }
   ],
   "execution_count": 7
  }
 ]
}
