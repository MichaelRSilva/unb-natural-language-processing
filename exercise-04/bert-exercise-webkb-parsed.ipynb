{
 "cells": [
  {
   "cell_type": "markdown",
   "id": "ea5da4d2a4080c8c",
   "metadata": {},
   "source": [
    "Import the libraries"
   ]
  },
  {
   "cell_type": "code",
   "execution_count": 1,
   "id": "27da7af4ce4432d4",
   "metadata": {
    "ExecuteTime": {
     "end_time": "2025-02-04T20:10:50.871269Z",
     "start_time": "2025-02-04T20:10:46.681974Z"
    }
   },
   "outputs": [
    {
     "name": "stderr",
     "output_type": "stream",
     "text": [
      "/Users/mksilva/Documents/personal/phd/nlp/unb-natural-language-processing/exercise-04/.venv/lib/python3.12/site-packages/tqdm/auto.py:21: TqdmWarning: IProgress not found. Please update jupyter and ipywidgets. See https://ipywidgets.readthedocs.io/en/stable/user_install.html\n",
      "  from .autonotebook import tqdm as notebook_tqdm\n"
     ]
    }
   ],
   "source": [
    "import matplotlib.pyplot as plt\n",
    "from load_data import load_dataset\n",
    "from tokenizer import get_tokenizer, tokenize_texts\n",
    "from bert_dataset import BertDataset\n",
    "from train import get_model, train_model\n",
    "from evaluate import evaluate_model\n",
    "from sklearn.metrics import ConfusionMatrixDisplay"
   ]
  },
  {
   "cell_type": "markdown",
   "id": "c798932180124de2",
   "metadata": {},
   "source": [
    "Load the base Dmoz-Health.csv"
   ]
  },
  {
   "cell_type": "code",
   "execution_count": 2,
   "id": "1d809ed738cc0c28",
   "metadata": {},
   "outputs": [],
   "source": [
    "# Define input parameters for data loading\n",
    "data_file = \"data/webkb-parsed.csv\"  # Path to the input CSV file\n",
    "text_column = \"text\"                # Name of column containing text data\n",
    "label_column = \"class\"              # Name of column containing class labels\n",
    "\n",
    "# Load and preprocess the dataset, splitting into train/val/test sets\n",
    "train_texts, val_texts, test_texts, train_labels, val_labels, test_labels, label_encoder = load_dataset(\n",
    "    data_file, text_column, label_column\n",
    ")"
   ]
  },
  {
   "cell_type": "markdown",
   "id": "ac7dfa2dcb22e21f",
   "metadata": {},
   "source": [
    "Run the tokenizer"
   ]
  },
  {
   "cell_type": "code",
   "execution_count": 3,
   "id": "deebd924bfeafc22",
   "metadata": {},
   "outputs": [],
   "source": [
    "# Initialize the BERT tokenizer\n",
    "tokenizer = get_tokenizer()\n",
    "\n",
    "# Tokenize the text data for each split\n",
    "# Tokenize training data and get analysis samples\n",
    "train_encodings, train_sample_text, train_tokens, train_token_ids = tokenize_texts(train_texts, tokenizer)\n",
    "\n",
    "# Tokenize validation and test data (only need encodings)\n",
    "val_encodings = tokenize_texts(val_texts, tokenizer)[0]\n",
    "test_encodings = tokenize_texts(test_texts, tokenizer)[0]"
   ]
  },
  {
   "cell_type": "markdown",
   "id": "c52a523946562fe4",
   "metadata": {},
   "source": [
    "Print the token samples"
   ]
  },
  {
   "cell_type": "code",
   "execution_count": 4,
   "id": "8e310caaa4b95400",
   "metadata": {},
   "outputs": [
    {
     "name": "stdout",
     "output_type": "stream",
     "text": [
      "\n",
      " **Train Tokenization Analysis** \n",
      "Sample Text:    CSE501 Assignments   CSE 501 Assignments Archive   assignments.01-04.ps   assignments.01-06.ps   assignments.01-13.ps   assignments.01-20.ps   assignments.01-25.ps   assignments.01-27.ps   assignments.02-03.ps   assignments.02-10.ps   assignments.02-17.ps   assignments.02-24.ps   assignments.03-03.ps    \n",
      "Tokens: ['cs', '##e', '##50', '##1', 'assignments', 'cs', '##e', '501', 'assignments', 'archive', 'assignments', '.', '01', '-', '04', '.', 'ps', 'assignments', '.', '01', '-', '06', '.', 'ps', 'assignments', '.', '01', '-', '13', '.', 'ps', 'assignments', '.', '01', '-', '20', '.', 'ps', 'assignments', '.', '01', '-', '25', '.', 'ps', 'assignments', '.', '01', '-', '27', '.', 'ps', 'assignments', '.', '02', '-', '03', '.', 'ps', 'assignments', '.', '02', '-', '10', '.', 'ps', 'assignments', '.', '02', '-', '17', '.', 'ps', 'assignments', '.', '02', '-', '24', '.', 'ps', 'assignments', '.', '03', '-', '03', '.', 'ps']\n",
      "Token IDs: [20116, 2063, 12376, 2487, 14799, 20116, 2063, 16202, 14799, 8756, 14799, 1012, 5890, 1011, 5840, 1012, 8827, 14799, 1012, 5890, 1011, 5757, 1012, 8827, 14799, 1012, 5890, 1011, 2410, 1012, 8827, 14799, 1012, 5890, 1011, 2322, 1012, 8827, 14799, 1012, 5890, 1011, 2423, 1012, 8827, 14799, 1012, 5890, 1011, 2676, 1012, 8827, 14799, 1012, 6185, 1011, 6021, 1012, 8827, 14799, 1012, 6185, 1011, 2184, 1012, 8827, 14799, 1012, 6185, 1011, 2459, 1012, 8827, 14799, 1012, 6185, 1011, 2484, 1012, 8827, 14799, 1012, 6021, 1011, 6021, 1012, 8827]\n",
      "\n"
     ]
    }
   ],
   "source": [
    "# Print tokenization analysis for a training sample\n",
    "print(\"\\n **Train Tokenization Analysis** \")\n",
    "print(f\"Sample Text: {train_sample_text}\")\n",
    "print(f\"Tokens: {train_tokens}\")\n",
    "print(f\"Token IDs: {train_token_ids}\\n\")"
   ]
  },
  {
   "cell_type": "markdown",
   "id": "f6b15d4fbd668db1",
   "metadata": {},
   "source": [
    "Create the datasets"
   ]
  },
  {
   "cell_type": "code",
   "execution_count": 5,
   "id": "d7762af79136de65",
   "metadata": {},
   "outputs": [],
   "source": [
    "# Create PyTorch datasets for model training\n",
    "train_dataset = BertDataset(train_encodings, train_labels)\n",
    "val_dataset = BertDataset(val_encodings, val_labels)\n",
    "test_dataset = BertDataset(test_encodings, test_labels)"
   ]
  },
  {
   "cell_type": "markdown",
   "id": "e4fa38d002cbb071",
   "metadata": {},
   "source": [
    "Create the model"
   ]
  },
  {
   "cell_type": "code",
   "execution_count": 6,
   "id": "17a519b75a89f4de",
   "metadata": {},
   "outputs": [
    {
     "name": "stderr",
     "output_type": "stream",
     "text": [
      "Some weights of BertForSequenceClassification were not initialized from the model checkpoint at bert-base-uncased and are newly initialized: ['classifier.bias', 'classifier.weight']\n",
      "You should probably TRAIN this model on a down-stream task to be able to use it for predictions and inference.\n",
      "/Users/mksilva/Documents/personal/phd/nlp/unb-natural-language-processing/exercise-04/.venv/lib/python3.12/site-packages/transformers/training_args.py:1575: FutureWarning: `evaluation_strategy` is deprecated and will be removed in version 4.46 of 🤗 Transformers. Use `eval_strategy` instead\n",
      "  warnings.warn(\n",
      "/Users/mksilva/Documents/personal/phd/nlp/unb-natural-language-processing/exercise-04/train.py:63: FutureWarning: `tokenizer` is deprecated and will be removed in version 5.0.0 for `Trainer.__init__`. Use `processing_class` instead.\n",
      "  trainer = Trainer(\n"
     ]
    },
    {
     "data": {
      "text/html": [
       "\n",
       "    <div>\n",
       "      \n",
       "      <progress value='2175' max='2175' style='width:300px; height:20px; vertical-align: middle;'></progress>\n",
       "      [2175/2175 11:18, Epoch 3/3]\n",
       "    </div>\n",
       "    <table border=\"1\" class=\"dataframe\">\n",
       "  <thead>\n",
       " <tr style=\"text-align: left;\">\n",
       "      <th>Epoch</th>\n",
       "      <th>Training Loss</th>\n",
       "      <th>Validation Loss</th>\n",
       "      <th>Accuracy</th>\n",
       "    </tr>\n",
       "  </thead>\n",
       "  <tbody>\n",
       "    <tr>\n",
       "      <td>1</td>\n",
       "      <td>0.291500</td>\n",
       "      <td>0.501369</td>\n",
       "      <td>0.873171</td>\n",
       "    </tr>\n",
       "    <tr>\n",
       "      <td>2</td>\n",
       "      <td>0.410100</td>\n",
       "      <td>0.381581</td>\n",
       "      <td>0.893902</td>\n",
       "    </tr>\n",
       "    <tr>\n",
       "      <td>3</td>\n",
       "      <td>0.320100</td>\n",
       "      <td>0.411993</td>\n",
       "      <td>0.912195</td>\n",
       "    </tr>\n",
       "  </tbody>\n",
       "</table><p>"
      ],
      "text/plain": [
       "<IPython.core.display.HTML object>"
      ]
     },
     "metadata": {},
     "output_type": "display_data"
    },
    {
     "data": {
      "text/html": [],
      "text/plain": [
       "<IPython.core.display.HTML object>"
      ]
     },
     "metadata": {},
     "output_type": "display_data"
    }
   ],
   "source": [
    "# Load model\n",
    "num_labels = len(label_encoder.classes_)\n",
    "model = get_model(num_labels)\n",
    "\n",
    "# Train model\n",
    "trainer = train_model(model, train_dataset, val_dataset, tokenizer)\n",
    "\n",
    "# Evaluate model\n",
    "accuracy, f1_micro, f1_macro, conf_matrix = evaluate_model(trainer, test_dataset, test_labels, label_encoder)"
   ]
  },
  {
   "cell_type": "markdown",
   "id": "86e6dd2d3588c4fe",
   "metadata": {},
   "source": [
    "Show the results"
   ]
  },
  {
   "cell_type": "code",
   "execution_count": 7,
   "id": "6529862cfb1d892e",
   "metadata": {},
   "outputs": [
    {
     "name": "stdout",
     "output_type": "stream",
     "text": [
      "Accuracy: 0.8979\n",
      "F1-score (Micro): 0.8979\n",
      "F1-score (Macro): 0.8284\n",
      "Confusion Matrix:\n",
      "[[181   0   1  16   0   0   0]\n",
      " [  0  27   0   6   2   0   0]\n",
      " [  0   0 210   2   1   9  12]\n",
      " [ 10   4   3 670  20   0  24]\n",
      " [  1   1   0  22  76   1   1]\n",
      " [  0   0   1   1   0  19   7]\n",
      " [  1   0   6   8   0  10 312]]\n"
     ]
    },
    {
     "data": {
      "image/png": "[encoded data removed]",
      "text/plain": [
       "<Figure size 640x480 with 2 Axes>"
      ]
     },
     "metadata": {},
     "output_type": "display_data"
    }
   ],
   "source": [
    "print(f\"Accuracy: {accuracy:.4f}\")\n",
    "print(f\"F1-score (Micro): {f1_micro:.4f}\")\n",
    "print(f\"F1-score (Macro): {f1_macro:.4f}\")\n",
    "print(\"Confusion Matrix:\")\n",
    "print(conf_matrix)\n",
    "\n",
    "disp = ConfusionMatrixDisplay(confusion_matrix=conf_matrix, display_labels=label_encoder.classes_)\n",
    "disp.plot(cmap=plt.cm.Blues)\n",
    "plt.show()\n"
   ]
  },
  {
   "cell_type": "code",
   "execution_count": null,
   "id": "2bc728d8-afb9-47d7-aa1a-4f1e3d20d894",
   "metadata": {},
   "outputs": [],
   "source": []
  }
 ],
 "metadata": {
  "kernelspec": {
   "display_name": "Python 3 (ipykernel)",
   "language": "python",
   "name": "python3"
  },
  "language_info": {
   "codemirror_mode": {
    "name": "ipython",
    "version": 3
   },
   "file_extension": ".py",
   "mimetype": "text/x-python",
   "name": "python",
   "nbconvert_exporter": "python",
   "pygments_lexer": "ipython3",
   "version": "3.12.3"
  }
 },
 "nbformat": 4,
 "nbformat_minor": 5
}
