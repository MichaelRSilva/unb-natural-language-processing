{
 "cells": [
  {
   "cell_type": "markdown",
   "metadata": {
    "id": "IODlhwPRHu_U"
   },
   "source": [
    "Import the libraries"
   ]
  },
  {
   "cell_type": "code",
   "metadata": {
    "executionInfo": {
     "elapsed": 256,
     "status": "ok",
     "timestamp": 1729987048116,
     "user": {
      "displayName": "Michael Silva",
      "userId": "03749993695353977562"
     },
     "user_tz": 180
    },
    "id": "m7Rnn8AHykYG",
    "ExecuteTime": {
     "end_time": "2024-11-12T18:36:30.516792Z",
     "start_time": "2024-11-12T18:36:30.506381Z"
    }
   },
   "source": [
    "from helper import get_text\n",
    "from bigrams import build_bigrams_model, next_word_probability, calculate_perplexity, generate_sentence"
   ],
   "outputs": [],
   "execution_count": 4
  },
  {
   "cell_type": "markdown",
   "metadata": {
    "id": "q0XZhf07BjZL"
   },
   "source": "Get the text to train the model"
  },
  {
   "cell_type": "code",
   "metadata": {
    "executionInfo": {
     "elapsed": 297,
     "status": "ok",
     "timestamp": 1729987050724,
     "user": {
      "displayName": "Michael Silva",
      "userId": "03749993695353977562"
     },
     "user_tz": 180
    },
    "id": "MhLcOqmfBJCn",
    "ExecuteTime": {
     "end_time": "2024-11-12T18:35:20.680232Z",
     "start_time": "2024-11-12T18:34:54.930027Z"
    }
   },
   "source": [
    "train_text, test_text = get_text()\n",
    "\n",
    "print(\"Size of the train data:\", len(train_text))\n",
    "print(\"Size of the test data:\", len(test_text))"
   ],
   "outputs": [
    {
     "name": "stdout",
     "output_type": "stream",
     "text": [
      "Size of the train data: 7999\n",
      "Size of the test data: 2001\n"
     ]
    }
   ],
   "execution_count": 2
  },
  {
   "cell_type": "markdown",
   "metadata": {
    "id": "k70mWyouDSd5"
   },
   "source": "Train the model"
  },
  {
   "cell_type": "code",
   "metadata": {
    "executionInfo": {
     "elapsed": 17057,
     "status": "ok",
     "timestamp": 1729987069068,
     "user": {
      "displayName": "Michael Silva",
      "userId": "03749993695353977562"
     },
     "user_tz": 180
    },
    "id": "gVXKmL38DR6p",
    "ExecuteTime": {
     "end_time": "2024-11-12T18:35:33.615867Z",
     "start_time": "2024-11-12T18:35:28.116649Z"
    }
   },
   "source": "bigrams_model = build_bigrams_model(train_text)",
   "outputs": [],
   "execution_count": 3
  },
  {
   "cell_type": "markdown",
   "metadata": {
    "id": "gu8oKM3UDRuN"
   },
   "source": "Generate a story"
  },
  {
   "cell_type": "code",
   "metadata": {
    "executionInfo": {
     "elapsed": 273,
     "status": "ok",
     "timestamp": 1729987072020,
     "user": {
      "displayName": "Michael Silva",
      "userId": "03749993695353977562"
     },
     "user_tz": 180
    },
    "id": "ueZANVSHBoT3",
    "ExecuteTime": {
     "end_time": "2024-11-12T18:36:48.500966Z",
     "start_time": "2024-11-12T18:36:48.373281Z"
    }
   },
   "source": [
    "word = \"brasileiro\"\n",
    "story = generate_sentence(word, 20, bigrams_model)\n",
    "print(story)"
   ],
   "outputs": [
    {
     "name": "stdout",
     "output_type": "stream",
     "text": [
      "Estado sao paulo categoria comunas cuneo com uma das nacoes unidas para que nao foi uma das nacoes unidas para. \n"
     ]
    }
   ],
   "execution_count": 7
  },
  {
   "cell_type": "markdown",
   "metadata": {
    "id": "xFibO5XYCD26"
   },
   "source": "Calculate perplexity of a sentence"
  },
  {
   "cell_type": "code",
   "metadata": {
    "colab": {
     "base_uri": "https://localhost:8080/"
    },
    "executionInfo": {
     "elapsed": 247,
     "status": "ok",
     "timestamp": 1729987073989,
     "user": {
      "displayName": "Michael Silva",
      "userId": "03749993695353977562"
     },
     "user_tz": 180
    },
    "id": "1-ww1JpjDwSZ",
    "outputId": "d73f527f-a682-4b07-ab72-e494eb82f777",
    "ExecuteTime": {
     "end_time": "2024-11-12T18:40:43.692604Z",
     "start_time": "2024-11-12T18:40:43.687251Z"
    }
   },
   "source": [
    "\n",
    "print(f\"Perplexity of the sentence: {calculate_perplexity(test_text[368], bigrams_model)}\")"
   ],
   "outputs": [
    {
     "name": "stdout",
     "output_type": "stream",
     "text": [
      "Perplexity of the sentence: 15.309733299676646\n"
     ]
    }
   ],
   "execution_count": 12
  },
  {
   "metadata": {},
   "cell_type": "code",
   "outputs": [],
   "execution_count": null,
   "source": ""
  }
 ],
 "metadata": {
  "colab": {
   "provenance": []
  },
  "kernelspec": {
   "display_name": "Python 3 (ipykernel)",
   "language": "python",
   "name": "python3"
  },
  "language_info": {
   "codemirror_mode": {
    "name": "ipython",
    "version": 3
   },
   "file_extension": ".py",
   "mimetype": "text/x-python",
   "name": "python",
   "nbconvert_exporter": "python",
   "pygments_lexer": "ipython3",
   "version": "3.11.9"
  }
 },
 "nbformat": 4,
 "nbformat_minor": 4
}
